{
  "nbformat": 4,
  "nbformat_minor": 0,
  "metadata": {
    "colab": {
      "name": "01_TF_2_x_2_LogisticRegression_Exercise_validation_0_5.ipynb",
      "provenance": [],
      "collapsed_sections": [],
      "toc_visible": true,
      "authorship_tag": "ABX9TyNnr2lRo6L/F59BltB4Utv+",
      "include_colab_link": true
    },
    "kernelspec": {
      "name": "python3",
      "display_name": "Python 3"
    },
    "language_info": {
      "name": "python"
    }
  },
  "cells": [
    {
      "cell_type": "markdown",
      "metadata": {
        "id": "view-in-github",
        "colab_type": "text"
      },
      "source": [
        "<a href=\"https://colab.research.google.com/github/FulISun/Computer_Vision/blob/main/01_TF_2_x_2_LogisticRegression_Exercise_validation_0_5.ipynb\" target=\"_parent\"><img src=\"https://colab.research.google.com/assets/colab-badge.svg\" alt=\"Open In Colab\"/></a>"
      ]
    },
    {
      "cell_type": "markdown",
      "source": [
        "# Logistic Regression Example"
      ],
      "metadata": {
        "id": "v7J1MfTtsD6X"
      }
    },
    {
      "cell_type": "code",
      "execution_count": null,
      "metadata": {
        "id": "jEkjbOSNsCpp"
      },
      "outputs": [],
      "source": [
        "import tensorflow as tf\n",
        "\n",
        "from tensorflow.keras.models import Sequential\n",
        "from tensorflow.keras.layers import Flatten, Dense\n",
        "from tensorflow.keras.optimizers import SGD, Adam\n"
      ]
    },
    {
      "cell_type": "markdown",
      "source": [
        "## [1] 데이터 생성"
      ],
      "metadata": {
        "id": "E6XqyHoKsYCY"
      }
    },
    {
      "cell_type": "code",
      "source": [
        "import numpy as np\n",
        "\n",
        "try:\n",
        "\n",
        "    loaded_data = np.loadtxt('./diabetes.csv', delimiter = ',')\n",
        "\n",
        "    x_data = loaded_data[ :, 0:-1]\n",
        "    t_data = loaded_data[ :, [-1]]\n",
        "\n",
        "    print(x_data.shape)\n",
        "    print(t_data.shape)\n",
        "\n",
        "except Exception as err:\n",
        "\n",
        "    print(str(err))"
      ],
      "metadata": {
        "colab": {
          "base_uri": "https://localhost:8080/"
        },
        "id": "HToxqvmOsXwa",
        "outputId": "a4b5de3b-3dbe-46c6-a842-b044c6303a02"
      },
      "execution_count": null,
      "outputs": [
        {
          "output_type": "stream",
          "name": "stdout",
          "text": [
            "(759, 8)\n",
            "(759, 1)\n"
          ]
        }
      ]
    },
    {
      "cell_type": "markdown",
      "source": [
        "## [2] 모델 구축"
      ],
      "metadata": {
        "id": "zhfnMdqftp7H"
      }
    },
    {
      "cell_type": "code",
      "source": [
        "model = Sequential()\n",
        "\n",
        "model.add( Dense( t_data.shape[1],\n",
        "                 input_shape=(x_data.shape[1], ), activation = 'sigmoid') )"
      ],
      "metadata": {
        "id": "fatjQXgwsXtz"
      },
      "execution_count": null,
      "outputs": []
    },
    {
      "cell_type": "markdown",
      "source": [
        "## [3] 모델 컴파일"
      ],
      "metadata": {
        "id": "4gAkeI_0uAUJ"
      }
    },
    {
      "cell_type": "code",
      "source": [
        "model.compile(optimizer = SGD(learning_rate=0.01),\n",
        "              loss = 'binary_crossentropy', metrics=['accuracy'])\n",
        "\n",
        "model.summary()"
      ],
      "metadata": {
        "colab": {
          "base_uri": "https://localhost:8080/"
        },
        "id": "jJ6eDNAesXrd",
        "outputId": "fc877275-8e3e-4970-d3a7-19a6e2da3e1f"
      },
      "execution_count": null,
      "outputs": [
        {
          "output_type": "stream",
          "name": "stdout",
          "text": [
            "Model: \"sequential_3\"\n",
            "_________________________________________________________________\n",
            " Layer (type)                Output Shape              Param #   \n",
            "=================================================================\n",
            " dense_3 (Dense)             (None, 1)                 9         \n",
            "                                                                 \n",
            "=================================================================\n",
            "Total params: 9\n",
            "Trainable params: 9\n",
            "Non-trainable params: 0\n",
            "_________________________________________________________________\n"
          ]
        }
      ]
    },
    {
      "cell_type": "markdown",
      "source": [
        "## [4] 모델 학습"
      ],
      "metadata": {
        "id": "FsODjxGNuV4-"
      }
    },
    {
      "cell_type": "code",
      "source": [
        "from datetime import datetime\n",
        "\n",
        "start_time = datetime.now()\n",
        "\n",
        "# hist = model.fit(x_data, t_data, epochs = 500, validation_split = 0.2, verbose = 2)\n",
        "# hist = model.fit(x_data, t_data, epochs = 500, validation_split = 0.3, verbose = 2)\n",
        "hist = model.fit(x_data, t_data, epochs = 200, validation_split = 0.3, verbose = 2)\n",
        "print()\n",
        "print('running time = ', start_time - datetime.now())"
      ],
      "metadata": {
        "colab": {
          "base_uri": "https://localhost:8080/"
        },
        "id": "6AubsoHVsXpG",
        "outputId": "4d65f9b1-ca30-404b-fbbe-638fae1abd7f"
      },
      "execution_count": null,
      "outputs": [
        {
          "output_type": "stream",
          "name": "stdout",
          "text": [
            "Epoch 1/200\n",
            "17/17 - 1s - loss: 0.8275 - accuracy: 0.3409 - val_loss: 0.8031 - val_accuracy: 0.3553 - 554ms/epoch - 33ms/step\n",
            "Epoch 2/200\n",
            "17/17 - 0s - loss: 0.8033 - accuracy: 0.3616 - val_loss: 0.7793 - val_accuracy: 0.4035 - 54ms/epoch - 3ms/step\n",
            "Epoch 3/200\n",
            "17/17 - 0s - loss: 0.7828 - accuracy: 0.3879 - val_loss: 0.7591 - val_accuracy: 0.4474 - 69ms/epoch - 4ms/step\n",
            "Epoch 4/200\n",
            "17/17 - 0s - loss: 0.7656 - accuracy: 0.4162 - val_loss: 0.7420 - val_accuracy: 0.4649 - 63ms/epoch - 4ms/step\n",
            "Epoch 5/200\n",
            "17/17 - 0s - loss: 0.7510 - accuracy: 0.4313 - val_loss: 0.7274 - val_accuracy: 0.4912 - 68ms/epoch - 4ms/step\n",
            "Epoch 6/200\n",
            "17/17 - 0s - loss: 0.7384 - accuracy: 0.4539 - val_loss: 0.7145 - val_accuracy: 0.5132 - 55ms/epoch - 3ms/step\n",
            "Epoch 7/200\n",
            "17/17 - 0s - loss: 0.7275 - accuracy: 0.4878 - val_loss: 0.7037 - val_accuracy: 0.5570 - 58ms/epoch - 3ms/step\n",
            "Epoch 8/200\n",
            "17/17 - 0s - loss: 0.7183 - accuracy: 0.5160 - val_loss: 0.6943 - val_accuracy: 0.5614 - 65ms/epoch - 4ms/step\n",
            "Epoch 9/200\n",
            "17/17 - 0s - loss: 0.7103 - accuracy: 0.5348 - val_loss: 0.6860 - val_accuracy: 0.5658 - 54ms/epoch - 3ms/step\n",
            "Epoch 10/200\n",
            "17/17 - 0s - loss: 0.7033 - accuracy: 0.5461 - val_loss: 0.6791 - val_accuracy: 0.5833 - 69ms/epoch - 4ms/step\n",
            "Epoch 11/200\n",
            "17/17 - 0s - loss: 0.6975 - accuracy: 0.5574 - val_loss: 0.6727 - val_accuracy: 0.5877 - 65ms/epoch - 4ms/step\n",
            "Epoch 12/200\n",
            "17/17 - 0s - loss: 0.6920 - accuracy: 0.5687 - val_loss: 0.6672 - val_accuracy: 0.6184 - 63ms/epoch - 4ms/step\n",
            "Epoch 13/200\n",
            "17/17 - 0s - loss: 0.6873 - accuracy: 0.5706 - val_loss: 0.6622 - val_accuracy: 0.6272 - 68ms/epoch - 4ms/step\n",
            "Epoch 14/200\n",
            "17/17 - 0s - loss: 0.6831 - accuracy: 0.5819 - val_loss: 0.6580 - val_accuracy: 0.6360 - 54ms/epoch - 3ms/step\n",
            "Epoch 15/200\n",
            "17/17 - 0s - loss: 0.6794 - accuracy: 0.5744 - val_loss: 0.6542 - val_accuracy: 0.6272 - 65ms/epoch - 4ms/step\n",
            "Epoch 16/200\n",
            "17/17 - 0s - loss: 0.6760 - accuracy: 0.5819 - val_loss: 0.6505 - val_accuracy: 0.6272 - 57ms/epoch - 3ms/step\n",
            "Epoch 17/200\n",
            "17/17 - 0s - loss: 0.6729 - accuracy: 0.5857 - val_loss: 0.6473 - val_accuracy: 0.6272 - 60ms/epoch - 4ms/step\n",
            "Epoch 18/200\n",
            "17/17 - 0s - loss: 0.6702 - accuracy: 0.5951 - val_loss: 0.6445 - val_accuracy: 0.6316 - 83ms/epoch - 5ms/step\n",
            "Epoch 19/200\n",
            "17/17 - 0s - loss: 0.6677 - accuracy: 0.5970 - val_loss: 0.6418 - val_accuracy: 0.6316 - 64ms/epoch - 4ms/step\n",
            "Epoch 20/200\n",
            "17/17 - 0s - loss: 0.6653 - accuracy: 0.5970 - val_loss: 0.6392 - val_accuracy: 0.6360 - 65ms/epoch - 4ms/step\n",
            "Epoch 21/200\n",
            "17/17 - 0s - loss: 0.6631 - accuracy: 0.5970 - val_loss: 0.6369 - val_accuracy: 0.6404 - 53ms/epoch - 3ms/step\n",
            "Epoch 22/200\n",
            "17/17 - 0s - loss: 0.6610 - accuracy: 0.5989 - val_loss: 0.6347 - val_accuracy: 0.6360 - 55ms/epoch - 3ms/step\n",
            "Epoch 23/200\n",
            "17/17 - 0s - loss: 0.6590 - accuracy: 0.6064 - val_loss: 0.6326 - val_accuracy: 0.6360 - 54ms/epoch - 3ms/step\n",
            "Epoch 24/200\n",
            "17/17 - 0s - loss: 0.6570 - accuracy: 0.6139 - val_loss: 0.6305 - val_accuracy: 0.6360 - 55ms/epoch - 3ms/step\n",
            "Epoch 25/200\n",
            "17/17 - 0s - loss: 0.6552 - accuracy: 0.6177 - val_loss: 0.6287 - val_accuracy: 0.6360 - 79ms/epoch - 5ms/step\n",
            "Epoch 26/200\n",
            "17/17 - 0s - loss: 0.6535 - accuracy: 0.6234 - val_loss: 0.6270 - val_accuracy: 0.6360 - 54ms/epoch - 3ms/step\n",
            "Epoch 27/200\n",
            "17/17 - 0s - loss: 0.6519 - accuracy: 0.6234 - val_loss: 0.6252 - val_accuracy: 0.6316 - 62ms/epoch - 4ms/step\n",
            "Epoch 28/200\n",
            "17/17 - 0s - loss: 0.6503 - accuracy: 0.6234 - val_loss: 0.6236 - val_accuracy: 0.6316 - 67ms/epoch - 4ms/step\n",
            "Epoch 29/200\n",
            "17/17 - 0s - loss: 0.6487 - accuracy: 0.6234 - val_loss: 0.6220 - val_accuracy: 0.6404 - 71ms/epoch - 4ms/step\n",
            "Epoch 30/200\n",
            "17/17 - 0s - loss: 0.6472 - accuracy: 0.6290 - val_loss: 0.6204 - val_accuracy: 0.6404 - 62ms/epoch - 4ms/step\n",
            "Epoch 31/200\n",
            "17/17 - 0s - loss: 0.6458 - accuracy: 0.6290 - val_loss: 0.6189 - val_accuracy: 0.6404 - 55ms/epoch - 3ms/step\n",
            "Epoch 32/200\n",
            "17/17 - 0s - loss: 0.6443 - accuracy: 0.6328 - val_loss: 0.6174 - val_accuracy: 0.6447 - 61ms/epoch - 4ms/step\n",
            "Epoch 33/200\n",
            "17/17 - 0s - loss: 0.6429 - accuracy: 0.6384 - val_loss: 0.6160 - val_accuracy: 0.6447 - 66ms/epoch - 4ms/step\n",
            "Epoch 34/200\n",
            "17/17 - 0s - loss: 0.6415 - accuracy: 0.6384 - val_loss: 0.6146 - val_accuracy: 0.6447 - 64ms/epoch - 4ms/step\n",
            "Epoch 35/200\n",
            "17/17 - 0s - loss: 0.6402 - accuracy: 0.6460 - val_loss: 0.6132 - val_accuracy: 0.6447 - 59ms/epoch - 3ms/step\n",
            "Epoch 36/200\n",
            "17/17 - 0s - loss: 0.6389 - accuracy: 0.6460 - val_loss: 0.6118 - val_accuracy: 0.6447 - 57ms/epoch - 3ms/step\n",
            "Epoch 37/200\n",
            "17/17 - 0s - loss: 0.6375 - accuracy: 0.6478 - val_loss: 0.6105 - val_accuracy: 0.6447 - 63ms/epoch - 4ms/step\n",
            "Epoch 38/200\n",
            "17/17 - 0s - loss: 0.6363 - accuracy: 0.6460 - val_loss: 0.6093 - val_accuracy: 0.6491 - 56ms/epoch - 3ms/step\n",
            "Epoch 39/200\n",
            "17/17 - 0s - loss: 0.6350 - accuracy: 0.6478 - val_loss: 0.6080 - val_accuracy: 0.6535 - 66ms/epoch - 4ms/step\n",
            "Epoch 40/200\n",
            "17/17 - 0s - loss: 0.6337 - accuracy: 0.6478 - val_loss: 0.6067 - val_accuracy: 0.6535 - 57ms/epoch - 3ms/step\n",
            "Epoch 41/200\n",
            "17/17 - 0s - loss: 0.6326 - accuracy: 0.6478 - val_loss: 0.6055 - val_accuracy: 0.6579 - 54ms/epoch - 3ms/step\n",
            "Epoch 42/200\n",
            "17/17 - 0s - loss: 0.6313 - accuracy: 0.6497 - val_loss: 0.6042 - val_accuracy: 0.6579 - 72ms/epoch - 4ms/step\n",
            "Epoch 43/200\n",
            "17/17 - 0s - loss: 0.6301 - accuracy: 0.6516 - val_loss: 0.6030 - val_accuracy: 0.6623 - 63ms/epoch - 4ms/step\n",
            "Epoch 44/200\n",
            "17/17 - 0s - loss: 0.6289 - accuracy: 0.6516 - val_loss: 0.6018 - val_accuracy: 0.6623 - 69ms/epoch - 4ms/step\n",
            "Epoch 45/200\n",
            "17/17 - 0s - loss: 0.6278 - accuracy: 0.6516 - val_loss: 0.6007 - val_accuracy: 0.6623 - 61ms/epoch - 4ms/step\n",
            "Epoch 46/200\n",
            "17/17 - 0s - loss: 0.6266 - accuracy: 0.6516 - val_loss: 0.5995 - val_accuracy: 0.6579 - 74ms/epoch - 4ms/step\n",
            "Epoch 47/200\n",
            "17/17 - 0s - loss: 0.6255 - accuracy: 0.6516 - val_loss: 0.5984 - val_accuracy: 0.6579 - 58ms/epoch - 3ms/step\n",
            "Epoch 48/200\n",
            "17/17 - 0s - loss: 0.6243 - accuracy: 0.6516 - val_loss: 0.5973 - val_accuracy: 0.6623 - 68ms/epoch - 4ms/step\n",
            "Epoch 49/200\n",
            "17/17 - 0s - loss: 0.6232 - accuracy: 0.6516 - val_loss: 0.5962 - val_accuracy: 0.6667 - 63ms/epoch - 4ms/step\n",
            "Epoch 50/200\n",
            "17/17 - 0s - loss: 0.6221 - accuracy: 0.6516 - val_loss: 0.5951 - val_accuracy: 0.6711 - 70ms/epoch - 4ms/step\n",
            "Epoch 51/200\n",
            "17/17 - 0s - loss: 0.6210 - accuracy: 0.6516 - val_loss: 0.5940 - val_accuracy: 0.6667 - 60ms/epoch - 4ms/step\n",
            "Epoch 52/200\n",
            "17/17 - 0s - loss: 0.6200 - accuracy: 0.6516 - val_loss: 0.5930 - val_accuracy: 0.6667 - 56ms/epoch - 3ms/step\n",
            "Epoch 53/200\n",
            "17/17 - 0s - loss: 0.6189 - accuracy: 0.6535 - val_loss: 0.5919 - val_accuracy: 0.6667 - 60ms/epoch - 4ms/step\n",
            "Epoch 54/200\n",
            "17/17 - 0s - loss: 0.6178 - accuracy: 0.6535 - val_loss: 0.5909 - val_accuracy: 0.6667 - 52ms/epoch - 3ms/step\n",
            "Epoch 55/200\n",
            "17/17 - 0s - loss: 0.6168 - accuracy: 0.6535 - val_loss: 0.5899 - val_accuracy: 0.6667 - 52ms/epoch - 3ms/step\n",
            "Epoch 56/200\n",
            "17/17 - 0s - loss: 0.6157 - accuracy: 0.6535 - val_loss: 0.5889 - val_accuracy: 0.6623 - 55ms/epoch - 3ms/step\n",
            "Epoch 57/200\n",
            "17/17 - 0s - loss: 0.6147 - accuracy: 0.6535 - val_loss: 0.5878 - val_accuracy: 0.6623 - 62ms/epoch - 4ms/step\n",
            "Epoch 58/200\n",
            "17/17 - 0s - loss: 0.6137 - accuracy: 0.6535 - val_loss: 0.5868 - val_accuracy: 0.6623 - 68ms/epoch - 4ms/step\n",
            "Epoch 59/200\n",
            "17/17 - 0s - loss: 0.6127 - accuracy: 0.6554 - val_loss: 0.5858 - val_accuracy: 0.6623 - 64ms/epoch - 4ms/step\n",
            "Epoch 60/200\n",
            "17/17 - 0s - loss: 0.6117 - accuracy: 0.6573 - val_loss: 0.5848 - val_accuracy: 0.6667 - 69ms/epoch - 4ms/step\n",
            "Epoch 61/200\n",
            "17/17 - 0s - loss: 0.6107 - accuracy: 0.6573 - val_loss: 0.5839 - val_accuracy: 0.6667 - 74ms/epoch - 4ms/step\n",
            "Epoch 62/200\n",
            "17/17 - 0s - loss: 0.6097 - accuracy: 0.6573 - val_loss: 0.5829 - val_accuracy: 0.6667 - 53ms/epoch - 3ms/step\n",
            "Epoch 63/200\n",
            "17/17 - 0s - loss: 0.6087 - accuracy: 0.6573 - val_loss: 0.5820 - val_accuracy: 0.6667 - 59ms/epoch - 3ms/step\n",
            "Epoch 64/200\n",
            "17/17 - 0s - loss: 0.6078 - accuracy: 0.6573 - val_loss: 0.5810 - val_accuracy: 0.6711 - 67ms/epoch - 4ms/step\n",
            "Epoch 65/200\n",
            "17/17 - 0s - loss: 0.6068 - accuracy: 0.6573 - val_loss: 0.5801 - val_accuracy: 0.6711 - 60ms/epoch - 4ms/step\n",
            "Epoch 66/200\n",
            "17/17 - 0s - loss: 0.6059 - accuracy: 0.6573 - val_loss: 0.5791 - val_accuracy: 0.6711 - 66ms/epoch - 4ms/step\n",
            "Epoch 67/200\n",
            "17/17 - 0s - loss: 0.6050 - accuracy: 0.6573 - val_loss: 0.5782 - val_accuracy: 0.6711 - 59ms/epoch - 3ms/step\n",
            "Epoch 68/200\n",
            "17/17 - 0s - loss: 0.6040 - accuracy: 0.6591 - val_loss: 0.5773 - val_accuracy: 0.6711 - 70ms/epoch - 4ms/step\n",
            "Epoch 69/200\n",
            "17/17 - 0s - loss: 0.6031 - accuracy: 0.6648 - val_loss: 0.5764 - val_accuracy: 0.6711 - 68ms/epoch - 4ms/step\n",
            "Epoch 70/200\n",
            "17/17 - 0s - loss: 0.6022 - accuracy: 0.6648 - val_loss: 0.5756 - val_accuracy: 0.6711 - 75ms/epoch - 4ms/step\n",
            "Epoch 71/200\n",
            "17/17 - 0s - loss: 0.6013 - accuracy: 0.6667 - val_loss: 0.5747 - val_accuracy: 0.6711 - 67ms/epoch - 4ms/step\n",
            "Epoch 72/200\n",
            "17/17 - 0s - loss: 0.6004 - accuracy: 0.6667 - val_loss: 0.5738 - val_accuracy: 0.6711 - 55ms/epoch - 3ms/step\n",
            "Epoch 73/200\n",
            "17/17 - 0s - loss: 0.5996 - accuracy: 0.6685 - val_loss: 0.5729 - val_accuracy: 0.6711 - 67ms/epoch - 4ms/step\n",
            "Epoch 74/200\n",
            "17/17 - 0s - loss: 0.5987 - accuracy: 0.6685 - val_loss: 0.5720 - val_accuracy: 0.6711 - 71ms/epoch - 4ms/step\n",
            "Epoch 75/200\n",
            "17/17 - 0s - loss: 0.5978 - accuracy: 0.6704 - val_loss: 0.5712 - val_accuracy: 0.6711 - 52ms/epoch - 3ms/step\n",
            "Epoch 76/200\n",
            "17/17 - 0s - loss: 0.5970 - accuracy: 0.6723 - val_loss: 0.5704 - val_accuracy: 0.6711 - 61ms/epoch - 4ms/step\n",
            "Epoch 77/200\n",
            "17/17 - 0s - loss: 0.5961 - accuracy: 0.6704 - val_loss: 0.5695 - val_accuracy: 0.6667 - 68ms/epoch - 4ms/step\n",
            "Epoch 78/200\n",
            "17/17 - 0s - loss: 0.5952 - accuracy: 0.6704 - val_loss: 0.5687 - val_accuracy: 0.6667 - 54ms/epoch - 3ms/step\n",
            "Epoch 79/200\n",
            "17/17 - 0s - loss: 0.5945 - accuracy: 0.6704 - val_loss: 0.5679 - val_accuracy: 0.6667 - 61ms/epoch - 4ms/step\n",
            "Epoch 80/200\n",
            "17/17 - 0s - loss: 0.5936 - accuracy: 0.6704 - val_loss: 0.5671 - val_accuracy: 0.6667 - 53ms/epoch - 3ms/step\n",
            "Epoch 81/200\n",
            "17/17 - 0s - loss: 0.5928 - accuracy: 0.6704 - val_loss: 0.5662 - val_accuracy: 0.6667 - 56ms/epoch - 3ms/step\n",
            "Epoch 82/200\n",
            "17/17 - 0s - loss: 0.5920 - accuracy: 0.6685 - val_loss: 0.5654 - val_accuracy: 0.6667 - 68ms/epoch - 4ms/step\n",
            "Epoch 83/200\n",
            "17/17 - 0s - loss: 0.5912 - accuracy: 0.6685 - val_loss: 0.5647 - val_accuracy: 0.6667 - 65ms/epoch - 4ms/step\n",
            "Epoch 84/200\n",
            "17/17 - 0s - loss: 0.5904 - accuracy: 0.6704 - val_loss: 0.5639 - val_accuracy: 0.6667 - 69ms/epoch - 4ms/step\n",
            "Epoch 85/200\n",
            "17/17 - 0s - loss: 0.5896 - accuracy: 0.6704 - val_loss: 0.5631 - val_accuracy: 0.6667 - 63ms/epoch - 4ms/step\n",
            "Epoch 86/200\n",
            "17/17 - 0s - loss: 0.5889 - accuracy: 0.6685 - val_loss: 0.5624 - val_accuracy: 0.6667 - 68ms/epoch - 4ms/step\n",
            "Epoch 87/200\n",
            "17/17 - 0s - loss: 0.5881 - accuracy: 0.6685 - val_loss: 0.5616 - val_accuracy: 0.6711 - 72ms/epoch - 4ms/step\n",
            "Epoch 88/200\n",
            "17/17 - 0s - loss: 0.5874 - accuracy: 0.6685 - val_loss: 0.5608 - val_accuracy: 0.6711 - 56ms/epoch - 3ms/step\n",
            "Epoch 89/200\n",
            "17/17 - 0s - loss: 0.5866 - accuracy: 0.6704 - val_loss: 0.5601 - val_accuracy: 0.6711 - 68ms/epoch - 4ms/step\n",
            "Epoch 90/200\n",
            "17/17 - 0s - loss: 0.5858 - accuracy: 0.6704 - val_loss: 0.5594 - val_accuracy: 0.6711 - 53ms/epoch - 3ms/step\n",
            "Epoch 91/200\n",
            "17/17 - 0s - loss: 0.5851 - accuracy: 0.6685 - val_loss: 0.5586 - val_accuracy: 0.6711 - 68ms/epoch - 4ms/step\n",
            "Epoch 92/200\n",
            "17/17 - 0s - loss: 0.5844 - accuracy: 0.6704 - val_loss: 0.5579 - val_accuracy: 0.6798 - 56ms/epoch - 3ms/step\n",
            "Epoch 93/200\n",
            "17/17 - 0s - loss: 0.5836 - accuracy: 0.6704 - val_loss: 0.5572 - val_accuracy: 0.6798 - 52ms/epoch - 3ms/step\n",
            "Epoch 94/200\n",
            "17/17 - 0s - loss: 0.5829 - accuracy: 0.6704 - val_loss: 0.5564 - val_accuracy: 0.6798 - 52ms/epoch - 3ms/step\n",
            "Epoch 95/200\n",
            "17/17 - 0s - loss: 0.5822 - accuracy: 0.6723 - val_loss: 0.5557 - val_accuracy: 0.6798 - 65ms/epoch - 4ms/step\n",
            "Epoch 96/200\n",
            "17/17 - 0s - loss: 0.5815 - accuracy: 0.6723 - val_loss: 0.5550 - val_accuracy: 0.6798 - 68ms/epoch - 4ms/step\n",
            "Epoch 97/200\n",
            "17/17 - 0s - loss: 0.5808 - accuracy: 0.6761 - val_loss: 0.5543 - val_accuracy: 0.6798 - 50ms/epoch - 3ms/step\n",
            "Epoch 98/200\n",
            "17/17 - 0s - loss: 0.5801 - accuracy: 0.6798 - val_loss: 0.5537 - val_accuracy: 0.6798 - 55ms/epoch - 3ms/step\n",
            "Epoch 99/200\n",
            "17/17 - 0s - loss: 0.5795 - accuracy: 0.6798 - val_loss: 0.5530 - val_accuracy: 0.6842 - 52ms/epoch - 3ms/step\n",
            "Epoch 100/200\n",
            "17/17 - 0s - loss: 0.5788 - accuracy: 0.6798 - val_loss: 0.5523 - val_accuracy: 0.6886 - 53ms/epoch - 3ms/step\n",
            "Epoch 101/200\n",
            "17/17 - 0s - loss: 0.5781 - accuracy: 0.6798 - val_loss: 0.5516 - val_accuracy: 0.6842 - 54ms/epoch - 3ms/step\n",
            "Epoch 102/200\n",
            "17/17 - 0s - loss: 0.5774 - accuracy: 0.6798 - val_loss: 0.5510 - val_accuracy: 0.6842 - 69ms/epoch - 4ms/step\n",
            "Epoch 103/200\n",
            "17/17 - 0s - loss: 0.5768 - accuracy: 0.6780 - val_loss: 0.5503 - val_accuracy: 0.6842 - 55ms/epoch - 3ms/step\n",
            "Epoch 104/200\n",
            "17/17 - 0s - loss: 0.5761 - accuracy: 0.6780 - val_loss: 0.5496 - val_accuracy: 0.6842 - 68ms/epoch - 4ms/step\n",
            "Epoch 105/200\n",
            "17/17 - 0s - loss: 0.5755 - accuracy: 0.6798 - val_loss: 0.5490 - val_accuracy: 0.6886 - 60ms/epoch - 4ms/step\n",
            "Epoch 106/200\n",
            "17/17 - 0s - loss: 0.5748 - accuracy: 0.6798 - val_loss: 0.5483 - val_accuracy: 0.6886 - 56ms/epoch - 3ms/step\n",
            "Epoch 107/200\n",
            "17/17 - 0s - loss: 0.5742 - accuracy: 0.6836 - val_loss: 0.5477 - val_accuracy: 0.6886 - 64ms/epoch - 4ms/step\n",
            "Epoch 108/200\n",
            "17/17 - 0s - loss: 0.5735 - accuracy: 0.6855 - val_loss: 0.5471 - val_accuracy: 0.6886 - 63ms/epoch - 4ms/step\n",
            "Epoch 109/200\n",
            "17/17 - 0s - loss: 0.5729 - accuracy: 0.6855 - val_loss: 0.5464 - val_accuracy: 0.6886 - 58ms/epoch - 3ms/step\n",
            "Epoch 110/200\n",
            "17/17 - 0s - loss: 0.5723 - accuracy: 0.6855 - val_loss: 0.5458 - val_accuracy: 0.6886 - 53ms/epoch - 3ms/step\n",
            "Epoch 111/200\n",
            "17/17 - 0s - loss: 0.5717 - accuracy: 0.6855 - val_loss: 0.5452 - val_accuracy: 0.6930 - 55ms/epoch - 3ms/step\n",
            "Epoch 112/200\n",
            "17/17 - 0s - loss: 0.5711 - accuracy: 0.6874 - val_loss: 0.5446 - val_accuracy: 0.6930 - 65ms/epoch - 4ms/step\n",
            "Epoch 113/200\n",
            "17/17 - 0s - loss: 0.5705 - accuracy: 0.6874 - val_loss: 0.5440 - val_accuracy: 0.6974 - 52ms/epoch - 3ms/step\n",
            "Epoch 114/200\n",
            "17/17 - 0s - loss: 0.5699 - accuracy: 0.6874 - val_loss: 0.5434 - val_accuracy: 0.6974 - 71ms/epoch - 4ms/step\n",
            "Epoch 115/200\n",
            "17/17 - 0s - loss: 0.5693 - accuracy: 0.6874 - val_loss: 0.5428 - val_accuracy: 0.6930 - 51ms/epoch - 3ms/step\n",
            "Epoch 116/200\n",
            "17/17 - 0s - loss: 0.5687 - accuracy: 0.6874 - val_loss: 0.5422 - val_accuracy: 0.6974 - 63ms/epoch - 4ms/step\n",
            "Epoch 117/200\n",
            "17/17 - 0s - loss: 0.5681 - accuracy: 0.6874 - val_loss: 0.5416 - val_accuracy: 0.7018 - 51ms/epoch - 3ms/step\n",
            "Epoch 118/200\n",
            "17/17 - 0s - loss: 0.5675 - accuracy: 0.6911 - val_loss: 0.5410 - val_accuracy: 0.7061 - 52ms/epoch - 3ms/step\n",
            "Epoch 119/200\n",
            "17/17 - 0s - loss: 0.5670 - accuracy: 0.6930 - val_loss: 0.5404 - val_accuracy: 0.7105 - 57ms/epoch - 3ms/step\n",
            "Epoch 120/200\n",
            "17/17 - 0s - loss: 0.5664 - accuracy: 0.6949 - val_loss: 0.5399 - val_accuracy: 0.7149 - 56ms/epoch - 3ms/step\n",
            "Epoch 121/200\n",
            "17/17 - 0s - loss: 0.5659 - accuracy: 0.6930 - val_loss: 0.5393 - val_accuracy: 0.7149 - 68ms/epoch - 4ms/step\n",
            "Epoch 122/200\n",
            "17/17 - 0s - loss: 0.5653 - accuracy: 0.6930 - val_loss: 0.5388 - val_accuracy: 0.7149 - 74ms/epoch - 4ms/step\n",
            "Epoch 123/200\n",
            "17/17 - 0s - loss: 0.5648 - accuracy: 0.6930 - val_loss: 0.5382 - val_accuracy: 0.7149 - 57ms/epoch - 3ms/step\n",
            "Epoch 124/200\n",
            "17/17 - 0s - loss: 0.5642 - accuracy: 0.6930 - val_loss: 0.5377 - val_accuracy: 0.7193 - 62ms/epoch - 4ms/step\n",
            "Epoch 125/200\n",
            "17/17 - 0s - loss: 0.5637 - accuracy: 0.6949 - val_loss: 0.5371 - val_accuracy: 0.7193 - 53ms/epoch - 3ms/step\n",
            "Epoch 126/200\n",
            "17/17 - 0s - loss: 0.5631 - accuracy: 0.6987 - val_loss: 0.5366 - val_accuracy: 0.7193 - 54ms/epoch - 3ms/step\n",
            "Epoch 127/200\n",
            "17/17 - 0s - loss: 0.5626 - accuracy: 0.6987 - val_loss: 0.5361 - val_accuracy: 0.7193 - 58ms/epoch - 3ms/step\n",
            "Epoch 128/200\n",
            "17/17 - 0s - loss: 0.5621 - accuracy: 0.7024 - val_loss: 0.5355 - val_accuracy: 0.7193 - 65ms/epoch - 4ms/step\n",
            "Epoch 129/200\n",
            "17/17 - 0s - loss: 0.5616 - accuracy: 0.7024 - val_loss: 0.5350 - val_accuracy: 0.7193 - 67ms/epoch - 4ms/step\n",
            "Epoch 130/200\n",
            "17/17 - 0s - loss: 0.5610 - accuracy: 0.7024 - val_loss: 0.5345 - val_accuracy: 0.7193 - 66ms/epoch - 4ms/step\n",
            "Epoch 131/200\n",
            "17/17 - 0s - loss: 0.5605 - accuracy: 0.7006 - val_loss: 0.5340 - val_accuracy: 0.7193 - 65ms/epoch - 4ms/step\n",
            "Epoch 132/200\n",
            "17/17 - 0s - loss: 0.5601 - accuracy: 0.7024 - val_loss: 0.5334 - val_accuracy: 0.7193 - 67ms/epoch - 4ms/step\n",
            "Epoch 133/200\n",
            "17/17 - 0s - loss: 0.5596 - accuracy: 0.7024 - val_loss: 0.5329 - val_accuracy: 0.7193 - 63ms/epoch - 4ms/step\n",
            "Epoch 134/200\n",
            "17/17 - 0s - loss: 0.5590 - accuracy: 0.7043 - val_loss: 0.5324 - val_accuracy: 0.7193 - 61ms/epoch - 4ms/step\n",
            "Epoch 135/200\n",
            "17/17 - 0s - loss: 0.5586 - accuracy: 0.7043 - val_loss: 0.5319 - val_accuracy: 0.7149 - 65ms/epoch - 4ms/step\n",
            "Epoch 136/200\n",
            "17/17 - 0s - loss: 0.5581 - accuracy: 0.7043 - val_loss: 0.5314 - val_accuracy: 0.7149 - 63ms/epoch - 4ms/step\n",
            "Epoch 137/200\n",
            "17/17 - 0s - loss: 0.5576 - accuracy: 0.7043 - val_loss: 0.5309 - val_accuracy: 0.7149 - 67ms/epoch - 4ms/step\n",
            "Epoch 138/200\n",
            "17/17 - 0s - loss: 0.5571 - accuracy: 0.7062 - val_loss: 0.5304 - val_accuracy: 0.7149 - 51ms/epoch - 3ms/step\n",
            "Epoch 139/200\n",
            "17/17 - 0s - loss: 0.5566 - accuracy: 0.7081 - val_loss: 0.5299 - val_accuracy: 0.7149 - 66ms/epoch - 4ms/step\n",
            "Epoch 140/200\n",
            "17/17 - 0s - loss: 0.5562 - accuracy: 0.7081 - val_loss: 0.5294 - val_accuracy: 0.7237 - 51ms/epoch - 3ms/step\n",
            "Epoch 141/200\n",
            "17/17 - 0s - loss: 0.5557 - accuracy: 0.7100 - val_loss: 0.5290 - val_accuracy: 0.7281 - 65ms/epoch - 4ms/step\n",
            "Epoch 142/200\n",
            "17/17 - 0s - loss: 0.5552 - accuracy: 0.7081 - val_loss: 0.5285 - val_accuracy: 0.7281 - 67ms/epoch - 4ms/step\n",
            "Epoch 143/200\n",
            "17/17 - 0s - loss: 0.5548 - accuracy: 0.7100 - val_loss: 0.5280 - val_accuracy: 0.7368 - 64ms/epoch - 4ms/step\n",
            "Epoch 144/200\n",
            "17/17 - 0s - loss: 0.5543 - accuracy: 0.7100 - val_loss: 0.5276 - val_accuracy: 0.7368 - 54ms/epoch - 3ms/step\n",
            "Epoch 145/200\n",
            "17/17 - 0s - loss: 0.5539 - accuracy: 0.7100 - val_loss: 0.5271 - val_accuracy: 0.7368 - 63ms/epoch - 4ms/step\n",
            "Epoch 146/200\n",
            "17/17 - 0s - loss: 0.5534 - accuracy: 0.7137 - val_loss: 0.5267 - val_accuracy: 0.7412 - 55ms/epoch - 3ms/step\n",
            "Epoch 147/200\n",
            "17/17 - 0s - loss: 0.5530 - accuracy: 0.7137 - val_loss: 0.5262 - val_accuracy: 0.7412 - 72ms/epoch - 4ms/step\n",
            "Epoch 148/200\n",
            "17/17 - 0s - loss: 0.5526 - accuracy: 0.7137 - val_loss: 0.5257 - val_accuracy: 0.7412 - 51ms/epoch - 3ms/step\n",
            "Epoch 149/200\n",
            "17/17 - 0s - loss: 0.5521 - accuracy: 0.7156 - val_loss: 0.5253 - val_accuracy: 0.7412 - 62ms/epoch - 4ms/step\n",
            "Epoch 150/200\n",
            "17/17 - 0s - loss: 0.5517 - accuracy: 0.7119 - val_loss: 0.5248 - val_accuracy: 0.7412 - 55ms/epoch - 3ms/step\n",
            "Epoch 151/200\n",
            "17/17 - 0s - loss: 0.5513 - accuracy: 0.7175 - val_loss: 0.5244 - val_accuracy: 0.7412 - 65ms/epoch - 4ms/step\n",
            "Epoch 152/200\n",
            "17/17 - 0s - loss: 0.5508 - accuracy: 0.7137 - val_loss: 0.5239 - val_accuracy: 0.7412 - 75ms/epoch - 4ms/step\n",
            "Epoch 153/200\n",
            "17/17 - 0s - loss: 0.5504 - accuracy: 0.7137 - val_loss: 0.5235 - val_accuracy: 0.7456 - 63ms/epoch - 4ms/step\n",
            "Epoch 154/200\n",
            "17/17 - 0s - loss: 0.5500 - accuracy: 0.7156 - val_loss: 0.5230 - val_accuracy: 0.7456 - 52ms/epoch - 3ms/step\n",
            "Epoch 155/200\n",
            "17/17 - 0s - loss: 0.5496 - accuracy: 0.7156 - val_loss: 0.5226 - val_accuracy: 0.7456 - 59ms/epoch - 3ms/step\n",
            "Epoch 156/200\n",
            "17/17 - 0s - loss: 0.5491 - accuracy: 0.7175 - val_loss: 0.5221 - val_accuracy: 0.7456 - 56ms/epoch - 3ms/step\n",
            "Epoch 157/200\n",
            "17/17 - 0s - loss: 0.5488 - accuracy: 0.7194 - val_loss: 0.5217 - val_accuracy: 0.7456 - 65ms/epoch - 4ms/step\n",
            "Epoch 158/200\n",
            "17/17 - 0s - loss: 0.5484 - accuracy: 0.7213 - val_loss: 0.5213 - val_accuracy: 0.7456 - 53ms/epoch - 3ms/step\n",
            "Epoch 159/200\n",
            "17/17 - 0s - loss: 0.5480 - accuracy: 0.7232 - val_loss: 0.5209 - val_accuracy: 0.7456 - 53ms/epoch - 3ms/step\n",
            "Epoch 160/200\n",
            "17/17 - 0s - loss: 0.5476 - accuracy: 0.7250 - val_loss: 0.5205 - val_accuracy: 0.7456 - 70ms/epoch - 4ms/step\n",
            "Epoch 161/200\n",
            "17/17 - 0s - loss: 0.5472 - accuracy: 0.7250 - val_loss: 0.5201 - val_accuracy: 0.7456 - 54ms/epoch - 3ms/step\n",
            "Epoch 162/200\n",
            "17/17 - 0s - loss: 0.5468 - accuracy: 0.7250 - val_loss: 0.5196 - val_accuracy: 0.7500 - 53ms/epoch - 3ms/step\n",
            "Epoch 163/200\n",
            "17/17 - 0s - loss: 0.5464 - accuracy: 0.7250 - val_loss: 0.5192 - val_accuracy: 0.7500 - 64ms/epoch - 4ms/step\n",
            "Epoch 164/200\n",
            "17/17 - 0s - loss: 0.5460 - accuracy: 0.7250 - val_loss: 0.5188 - val_accuracy: 0.7544 - 55ms/epoch - 3ms/step\n",
            "Epoch 165/200\n",
            "17/17 - 0s - loss: 0.5456 - accuracy: 0.7250 - val_loss: 0.5184 - val_accuracy: 0.7544 - 62ms/epoch - 4ms/step\n",
            "Epoch 166/200\n",
            "17/17 - 0s - loss: 0.5453 - accuracy: 0.7250 - val_loss: 0.5180 - val_accuracy: 0.7544 - 62ms/epoch - 4ms/step\n",
            "Epoch 167/200\n",
            "17/17 - 0s - loss: 0.5449 - accuracy: 0.7250 - val_loss: 0.5176 - val_accuracy: 0.7544 - 61ms/epoch - 4ms/step\n",
            "Epoch 168/200\n",
            "17/17 - 0s - loss: 0.5445 - accuracy: 0.7250 - val_loss: 0.5172 - val_accuracy: 0.7544 - 53ms/epoch - 3ms/step\n",
            "Epoch 169/200\n",
            "17/17 - 0s - loss: 0.5442 - accuracy: 0.7250 - val_loss: 0.5168 - val_accuracy: 0.7544 - 64ms/epoch - 4ms/step\n",
            "Epoch 170/200\n",
            "17/17 - 0s - loss: 0.5438 - accuracy: 0.7250 - val_loss: 0.5165 - val_accuracy: 0.7588 - 55ms/epoch - 3ms/step\n",
            "Epoch 171/200\n",
            "17/17 - 0s - loss: 0.5434 - accuracy: 0.7269 - val_loss: 0.5161 - val_accuracy: 0.7588 - 51ms/epoch - 3ms/step\n",
            "Epoch 172/200\n",
            "17/17 - 0s - loss: 0.5431 - accuracy: 0.7269 - val_loss: 0.5157 - val_accuracy: 0.7588 - 65ms/epoch - 4ms/step\n",
            "Epoch 173/200\n",
            "17/17 - 0s - loss: 0.5427 - accuracy: 0.7269 - val_loss: 0.5153 - val_accuracy: 0.7588 - 68ms/epoch - 4ms/step\n",
            "Epoch 174/200\n",
            "17/17 - 0s - loss: 0.5424 - accuracy: 0.7269 - val_loss: 0.5149 - val_accuracy: 0.7588 - 63ms/epoch - 4ms/step\n",
            "Epoch 175/200\n",
            "17/17 - 0s - loss: 0.5420 - accuracy: 0.7269 - val_loss: 0.5146 - val_accuracy: 0.7588 - 51ms/epoch - 3ms/step\n",
            "Epoch 176/200\n",
            "17/17 - 0s - loss: 0.5416 - accuracy: 0.7269 - val_loss: 0.5142 - val_accuracy: 0.7588 - 50ms/epoch - 3ms/step\n",
            "Epoch 177/200\n",
            "17/17 - 0s - loss: 0.5413 - accuracy: 0.7288 - val_loss: 0.5138 - val_accuracy: 0.7632 - 53ms/epoch - 3ms/step\n",
            "Epoch 178/200\n",
            "17/17 - 0s - loss: 0.5409 - accuracy: 0.7269 - val_loss: 0.5135 - val_accuracy: 0.7632 - 105ms/epoch - 6ms/step\n",
            "Epoch 179/200\n",
            "17/17 - 0s - loss: 0.5406 - accuracy: 0.7269 - val_loss: 0.5131 - val_accuracy: 0.7632 - 51ms/epoch - 3ms/step\n",
            "Epoch 180/200\n",
            "17/17 - 0s - loss: 0.5403 - accuracy: 0.7288 - val_loss: 0.5128 - val_accuracy: 0.7632 - 57ms/epoch - 3ms/step\n",
            "Epoch 181/200\n",
            "17/17 - 0s - loss: 0.5400 - accuracy: 0.7288 - val_loss: 0.5124 - val_accuracy: 0.7632 - 53ms/epoch - 3ms/step\n",
            "Epoch 182/200\n",
            "17/17 - 0s - loss: 0.5396 - accuracy: 0.7307 - val_loss: 0.5120 - val_accuracy: 0.7632 - 67ms/epoch - 4ms/step\n",
            "Epoch 183/200\n",
            "17/17 - 0s - loss: 0.5394 - accuracy: 0.7288 - val_loss: 0.5117 - val_accuracy: 0.7588 - 53ms/epoch - 3ms/step\n",
            "Epoch 184/200\n",
            "17/17 - 0s - loss: 0.5390 - accuracy: 0.7288 - val_loss: 0.5114 - val_accuracy: 0.7588 - 64ms/epoch - 4ms/step\n",
            "Epoch 185/200\n",
            "17/17 - 0s - loss: 0.5386 - accuracy: 0.7288 - val_loss: 0.5110 - val_accuracy: 0.7588 - 65ms/epoch - 4ms/step\n",
            "Epoch 186/200\n",
            "17/17 - 0s - loss: 0.5383 - accuracy: 0.7288 - val_loss: 0.5107 - val_accuracy: 0.7588 - 59ms/epoch - 3ms/step\n",
            "Epoch 187/200\n",
            "17/17 - 0s - loss: 0.5380 - accuracy: 0.7288 - val_loss: 0.5103 - val_accuracy: 0.7588 - 53ms/epoch - 3ms/step\n",
            "Epoch 188/200\n",
            "17/17 - 0s - loss: 0.5377 - accuracy: 0.7269 - val_loss: 0.5100 - val_accuracy: 0.7588 - 64ms/epoch - 4ms/step\n",
            "Epoch 189/200\n",
            "17/17 - 0s - loss: 0.5374 - accuracy: 0.7288 - val_loss: 0.5097 - val_accuracy: 0.7588 - 50ms/epoch - 3ms/step\n",
            "Epoch 190/200\n",
            "17/17 - 0s - loss: 0.5371 - accuracy: 0.7307 - val_loss: 0.5093 - val_accuracy: 0.7588 - 63ms/epoch - 4ms/step\n",
            "Epoch 191/200\n",
            "17/17 - 0s - loss: 0.5367 - accuracy: 0.7326 - val_loss: 0.5090 - val_accuracy: 0.7588 - 64ms/epoch - 4ms/step\n",
            "Epoch 192/200\n",
            "17/17 - 0s - loss: 0.5365 - accuracy: 0.7326 - val_loss: 0.5086 - val_accuracy: 0.7588 - 53ms/epoch - 3ms/step\n",
            "Epoch 193/200\n",
            "17/17 - 0s - loss: 0.5362 - accuracy: 0.7345 - val_loss: 0.5083 - val_accuracy: 0.7588 - 52ms/epoch - 3ms/step\n",
            "Epoch 194/200\n",
            "17/17 - 0s - loss: 0.5358 - accuracy: 0.7326 - val_loss: 0.5080 - val_accuracy: 0.7588 - 63ms/epoch - 4ms/step\n",
            "Epoch 195/200\n",
            "17/17 - 0s - loss: 0.5356 - accuracy: 0.7345 - val_loss: 0.5077 - val_accuracy: 0.7588 - 62ms/epoch - 4ms/step\n",
            "Epoch 196/200\n",
            "17/17 - 0s - loss: 0.5353 - accuracy: 0.7363 - val_loss: 0.5074 - val_accuracy: 0.7632 - 55ms/epoch - 3ms/step\n",
            "Epoch 197/200\n",
            "17/17 - 0s - loss: 0.5350 - accuracy: 0.7382 - val_loss: 0.5071 - val_accuracy: 0.7632 - 56ms/epoch - 3ms/step\n",
            "Epoch 198/200\n",
            "17/17 - 0s - loss: 0.5347 - accuracy: 0.7401 - val_loss: 0.5068 - val_accuracy: 0.7632 - 58ms/epoch - 3ms/step\n",
            "Epoch 199/200\n",
            "17/17 - 0s - loss: 0.5344 - accuracy: 0.7420 - val_loss: 0.5065 - val_accuracy: 0.7632 - 77ms/epoch - 5ms/step\n",
            "Epoch 200/200\n",
            "17/17 - 0s - loss: 0.5341 - accuracy: 0.7420 - val_loss: 0.5061 - val_accuracy: 0.7632 - 51ms/epoch - 3ms/step\n",
            "\n",
            "running time =  -1 day, 23:59:46.189372\n"
          ]
        }
      ]
    },
    {
      "cell_type": "markdown",
      "source": [
        "## [5] 모델 정확도 평가"
      ],
      "metadata": {
        "id": "ARW57aVYugzC"
      }
    },
    {
      "cell_type": "code",
      "source": [
        "model.evaluate(x_data, t_data)"
      ],
      "metadata": {
        "colab": {
          "base_uri": "https://localhost:8080/"
        },
        "id": "PST2YEWmsXmf",
        "outputId": "33b6b839-f690-401b-eb16-b6731067a1f4"
      },
      "execution_count": null,
      "outputs": [
        {
          "output_type": "stream",
          "name": "stdout",
          "text": [
            "24/24 [==============================] - 0s 2ms/step - loss: 0.5255 - accuracy: 0.7484\n"
          ]
        },
        {
          "output_type": "execute_result",
          "data": {
            "text/plain": [
              "[0.5255348086357117, 0.748353123664856]"
            ]
          },
          "metadata": {},
          "execution_count": 28
        }
      ]
    },
    {
      "cell_type": "markdown",
      "source": [
        "## [6] 손실 및 정확도 추세"
      ],
      "metadata": {
        "id": "FV0DBRC6uv7_"
      }
    },
    {
      "cell_type": "code",
      "source": [
        "import matplotlib.pyplot as plt\n",
        "\n",
        "plt.title('Loss')\n",
        "plt.xlabel('epochs')\n",
        "plt.ylabel('loss')\n",
        "plt.grid()\n",
        "\n",
        "plt.plot(hist.history['loss'], label = 'train loss')\n",
        "plt.plot(hist.history['val_loss'], label = 'validation loss')\n",
        "\n",
        "plt.legend(loc = 'best')\n",
        "\n",
        "plt.show()"
      ],
      "metadata": {
        "colab": {
          "base_uri": "https://localhost:8080/",
          "height": 295
        },
        "id": "vQpcRfGNsXkH",
        "outputId": "3f1fd70b-1793-4716-a5c4-108015c4adaf"
      },
      "execution_count": null,
      "outputs": [
        {
          "output_type": "display_data",
          "data": {
            "text/plain": [
              "<Figure size 432x288 with 1 Axes>"
            ],
            "image/png": "[encoded data removed]"
          },
          "metadata": {
            "needs_background": "light"
          }
        }
      ]
    },
    {
      "cell_type": "code",
      "source": [
        "import matplotlib.pyplot as plt\n",
        "\n",
        "plt.title('Accuracy')\n",
        "plt.xlabel('epochs')\n",
        "plt.ylabel('accuracy')\n",
        "plt.grid()\n",
        "\n",
        "plt.plot(hist.history['accuracy'], label = 'train accuracy')\n",
        "plt.plot(hist.history['val_accuracy'], label = 'validation accuracy')\n",
        "\n",
        "plt.legend(loc = 'best')\n",
        "\n",
        "plt.show()"
      ],
      "metadata": {
        "colab": {
          "base_uri": "https://localhost:8080/",
          "height": 295
        },
        "id": "j9IldOkLsXh2",
        "outputId": "2837fda4-d420-4761-8ee9-460436a4c1fd"
      },
      "execution_count": null,
      "outputs": [
        {
          "output_type": "display_data",
          "data": {
            "text/plain": [
              "<Figure size 432x288 with 1 Axes>"
            ],
            "image/png": "[encoded data removed]"
          },
          "metadata": {
            "needs_background": "light"
          }
        }
      ]
    },
    {
      "cell_type": "code",
      "source": [
        ""
      ],
      "metadata": {
        "id": "C0SOIuN5sXff"
      },
      "execution_count": null,
      "outputs": []
    },
    {
      "cell_type": "code",
      "source": [
        ""
      ],
      "metadata": {
        "id": "yQgUt7d2sXda"
      },
      "execution_count": null,
      "outputs": []
    },
    {
      "cell_type": "code",
      "source": [
        ""
      ],
      "metadata": {
        "id": "FxC34v-UsXa3"
      },
      "execution_count": null,
      "outputs": []
    },
    {
      "cell_type": "code",
      "source": [
        ""
      ],
      "metadata": {
        "id": "w3qqbNP2sXYm"
      },
      "execution_count": null,
      "outputs": []
    },
    {
      "cell_type": "code",
      "source": [
        ""
      ],
      "metadata": {
        "id": "uxXLG6B3sXV_"
      },
      "execution_count": null,
      "outputs": []
    }
  ]
}