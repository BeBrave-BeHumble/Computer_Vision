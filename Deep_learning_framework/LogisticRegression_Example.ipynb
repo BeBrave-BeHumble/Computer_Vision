{
  "cells": [
    {
      "cell_type": "markdown",
      "metadata": {
        "id": "view-in-github",
        "colab_type": "text"
      },
      "source": [
        "<a href=\"https://colab.research.google.com/github/FulISun/Computer_Vision/blob/main/LogisticRegression_Example.ipynb\" target=\"_parent\"><img src=\"https://colab.research.google.com/assets/colab-badge.svg\" alt=\"Open In Colab\"/></a>"
      ]
    },
    {
      "cell_type": "markdown",
      "metadata": {
        "id": "HVPjIORrOxp8"
      },
      "source": [
        "## numerical_derivative, sigmoid 함수 정의"
      ]
    },
    {
      "cell_type": "code",
      "execution_count": null,
      "metadata": {
        "id": "ONLApAPKOxqO"
      },
      "outputs": [],
      "source": [
        "import numpy as np\n",
        "from datetime import datetime\n",
        "\n",
        "np.random.seed(0)\n",
        "\n",
        "def numerical_derivative(f, x):\n",
        "    delta_x = 1e-4 # 0.0001\n",
        "    grad = np.zeros_like(x)\n",
        "    \n",
        "    it = np.nditer(x, flags=['multi_index'], op_flags=['readwrite'])\n",
        "    \n",
        "    while not it.finished:\n",
        "        idx = it.multi_index        \n",
        "        tmp_val = x[idx]\n",
        "        x[idx] = float(tmp_val) + delta_x\n",
        "        fx1 = f(x) # f(x+delta_x)\n",
        "        \n",
        "        x[idx] = float(tmp_val) - delta_x \n",
        "        fx2 = f(x) # f(x-delta_x)\n",
        "        grad[idx] = (fx1 - fx2) / (2*delta_x)\n",
        "        \n",
        "        x[idx] = tmp_val \n",
        "        it.iternext()   \n",
        "        \n",
        "    return grad"
      ]
    },
    {
      "cell_type": "code",
      "execution_count": null,
      "metadata": {
        "id": "l9KYhcJ6Oxqb"
      },
      "outputs": [],
      "source": [
        "# 최종출력은 y = sigmoid(Wx+b) 이며, 손실함수는 cross-entropy 로 나타냄\n",
        "\n",
        "def sigmoid(z):\n",
        "    return 1 / (1+np.exp(-z))"
      ]
    },
    {
      "cell_type": "markdown",
      "source": [
        "## data definition"
      ],
      "metadata": {
        "id": "KLkHhqE1PB_C"
      }
    },
    {
      "cell_type": "code",
      "execution_count": null,
      "metadata": {
        "colab": {
          "base_uri": "https://localhost:8080/"
        },
        "id": "dR6A0Sc1Oxqc",
        "outputId": "f92ce4ad-6313-49e2-98ae-5300189f0561"
      },
      "outputs": [
        {
          "output_type": "stream",
          "name": "stdout",
          "text": [
            "x_data.shape =  (10, 1) , t_data.shape =  (10, 1)\n"
          ]
        }
      ],
      "source": [
        "x_data = np.array([2, 4, 6, 8, 10, 12, 14, 16, 18, 20]).reshape(10,1)   \n",
        "t_data = np.array([0, 0, 0, 0,  0,  0,  1,  1,  1,  1]).reshape(10,1)\n",
        "\n",
        "print(\"x_data.shape = \", x_data.shape, \", t_data.shape = \", t_data.shape)"
      ]
    },
    {
      "cell_type": "markdown",
      "source": [
        "## initialize weights and bias"
      ],
      "metadata": {
        "id": "sFnhA47FPFzp"
      }
    },
    {
      "cell_type": "code",
      "execution_count": null,
      "metadata": {
        "colab": {
          "base_uri": "https://localhost:8080/"
        },
        "id": "9MtmDwl2Oxqf",
        "outputId": "4d1c93f0-6846-4089-e07d-5f7429bc855b"
      },
      "outputs": [
        {
          "output_type": "stream",
          "name": "stdout",
          "text": [
            "W =  [[0.54488318]] , W.shape =  (1, 1) , b =  [0.4236548] , b.shape =  (1,)\n"
          ]
        }
      ],
      "source": [
        "W = np.random.rand(1, 1)  \n",
        "b = np.random.rand(1)  \n",
        "\n",
        "print(\"W = \", W, \", W.shape = \", W.shape, \", b = \", b, \", b.shape = \", b.shape)"
      ]
    },
    {
      "cell_type": "markdown",
      "source": [
        "## define loss function and output, y"
      ],
      "metadata": {
        "id": "BIrUcRvcPQeG"
      }
    },
    {
      "cell_type": "code",
      "execution_count": null,
      "metadata": {
        "id": "ldAtOucnOxqg"
      },
      "outputs": [],
      "source": [
        "def loss_func(x, t):\n",
        "    \n",
        "    delta = 1e-7    # log 무한대 발산 방지\n",
        "    \n",
        "    z = np.dot(x, W) + b\n",
        "    y = sigmoid(z)\n",
        "    \n",
        "    # cross-entropy \n",
        "    return  -np.sum( t*np.log(y + delta) + (1-t)*np.log((1 - y)+delta ) ) \n",
        "\n",
        "    # MSE\n",
        "    # return ( np.sum( (t - y)**2) ) / len(x)\n",
        "    ''' 통상적으로 이진분류의 경우 손실함수로 BCE를 사용하지만 사실 어떤 손실함수를 사용해도 상관없음.\n",
        "        왜냐하면 어차피 손실함수는 예측값과 실제값의 차이만 계산해낼 수 있으면 되기 때문인데,\n",
        "        굳이 BCE만 사용하는 이유는 BCE가 이진분류에 가장 최적화된 수식이기 때문임.\n",
        "        마찬가지로 영상분류나 이미지분류로 넘어가서도 그 어떤 손실함수로 사용하여도 상관없으나\n",
        "        손실이 가장 작게 나오는 즉, 가장 최적화된 수식을 주로 사용할 뿐임 '''\n",
        "\n",
        "# 손실함수 값 계산 함수\n",
        "# 입력변수 x, t : numpy type\n",
        "def error_val(x, t):\n",
        "    delta = 1e-7    # log 무한대 발산 방지\n",
        "    \n",
        "    z = np.dot(x, W) + b\n",
        "    y = sigmoid(z)\n",
        "    \n",
        "    # cross-entropy \n",
        "    return  -np.sum( t*np.log(y + delta) + (1-t)*np.log((1 - y)+delta ) ) \n",
        "    # MSE\n",
        "    # return ( np.sum( (t - y)**2) ) / len(x)"
      ]
    },
    {
      "cell_type": "markdown",
      "source": [
        "## learning"
      ],
      "metadata": {
        "id": "0OAKzLBvPU5e"
      }
    },
    {
      "cell_type": "code",
      "execution_count": null,
      "metadata": {
        "colab": {
          "base_uri": "https://localhost:8080/"
        },
        "id": "4uaeY4ijOxqi",
        "outputId": "6aba54a0-7356-4168-bb41-92f78cdc10ae"
      },
      "outputs": [
        {
          "output_type": "stream",
          "name": "stdout",
          "text": [
            "Initial error value =  25.73442936308255\n",
            "step =  0 error value =  9.709455701162423\n",
            "step =  5000 error value =  0.8451608286252766\n",
            "step =  10000 error value =  0.6209602103436154\n",
            "step =  15000 error value =  0.5094782951954425\n",
            "step =  20000 error value =  0.4377734026512996\n",
            "step =  25000 error value =  0.3861425047850229\n",
            "step =  30000 error value =  0.34652252119106075\n",
            "step =  35000 error value =  0.3148478596803295\n",
            "step =  40000 error value =  0.2887880919607712\n",
            "step =  45000 error value =  0.2668859499196984\n",
            "step =  50000 error value =  0.2481710828327566\n",
            "step =  55000 error value =  0.23196601164835975\n",
            "step =  60000 error value =  0.21777993600194795\n",
            "step =  65000 error value =  0.20524662500404028\n",
            "step =  70000 error value =  0.19408610903254747\n",
            "step =  75000 error value =  0.18408000361324356\n",
            "step =  80000 error value =  0.17505503048744567\n",
            "step =  85000 error value =  0.16687167290194277\n",
            "step =  90000 error value =  0.15941615996753444\n",
            "step =  95000 error value =  0.15259467478741676\n",
            "step =  100000 error value =  0.1463290868641143\n",
            "\n",
            "Elapsed Time =>  0:00:14.154329\n"
          ]
        }
      ],
      "source": [
        "learning_rate = 1e-2  # 발산하는 경우, 1e-3 ~ 1e-6 등으로 바꾸어서 실행\n",
        "\n",
        "f = lambda x : loss_func(x_data,t_data)  \n",
        "\n",
        "print(\"Initial error value = \", error_val(x_data, t_data) )\n",
        "\n",
        "start_time = datetime.now()\n",
        "\n",
        "for step in  range(100001):  \n",
        "    \n",
        "    W -= learning_rate * numerical_derivative(f, W)\n",
        "    \n",
        "    b -= learning_rate * numerical_derivative(f, b)\n",
        "    \n",
        "    if (step % 5000 == 0):\n",
        "        print(\"step = \", step, \"error value = \", error_val(x_data, t_data) )\n",
        "        \n",
        "end_time = datetime.now()\n",
        "        \n",
        "print(\"\")\n",
        "print(\"Elapsed Time => \", end_time - start_time)"
      ]
    },
    {
      "cell_type": "markdown",
      "source": [
        "## evaluate and predict"
      ],
      "metadata": {
        "id": "MdCQM7SiPL_N"
      }
    },
    {
      "cell_type": "code",
      "source": [
        "# 학습을 마친 후, 임의의 데이터에 대해 미래 값 예측 함수\n",
        "# 입력변수 test_data : numpy type\n",
        "def predict(test_data):\n",
        "    \n",
        "    z = np.dot(test_data, W) + b\n",
        "    y = sigmoid(z)\n",
        "\n",
        "    # y는 0~1 사이의 확률값이기 때문에 0 or 1로 변경    \n",
        "    if y >= 0.5:\n",
        "        result = 1  # True\n",
        "    else:\n",
        "        result = 0  # False\n",
        "    \n",
        "    return y, result"
      ],
      "metadata": {
        "id": "Eb-JN1wnPOkt"
      },
      "execution_count": null,
      "outputs": []
    },
    {
      "cell_type": "code",
      "execution_count": null,
      "metadata": {
        "colab": {
          "base_uri": "https://localhost:8080/"
        },
        "id": "kypteKwcOxqk",
        "outputId": "9e3c94df-a298-41a5-e2a3-1ac5b28deffb"
      },
      "outputs": [
        {
          "output_type": "stream",
          "name": "stdout",
          "text": [
            "[0.52082828] 1\n"
          ]
        }
      ],
      "source": [
        "test_data = np.array([13.0])\n",
        "\n",
        "(real_val, logical_val) = predict(test_data)\n",
        "\n",
        "print(real_val, logical_val) # 약 52%의 확률로 출력값이 1이 됨"
      ]
    },
    {
      "cell_type": "code",
      "execution_count": null,
      "metadata": {
        "colab": {
          "base_uri": "https://localhost:8080/"
        },
        "id": "sur5--LQOxqo",
        "outputId": "f8109d39-ca29-47e3-a1ed-c2c010c90670"
      },
      "outputs": [
        {
          "output_type": "stream",
          "name": "stdout",
          "text": [
            "[0.00610965] 0\n"
          ]
        }
      ],
      "source": [
        "test_data = np.array([11.0])\n",
        "\n",
        "(real_val, logical_val) = predict(test_data)\n",
        "\n",
        "print(real_val, logical_val) # 0.6%의 확률로 출력값이 0이 됨"
      ]
    },
    {
      "cell_type": "code",
      "execution_count": null,
      "metadata": {
        "colab": {
          "base_uri": "https://localhost:8080/"
        },
        "id": "CColqliiOxqq",
        "outputId": "eaf38614-eae1-40c3-dce2-515df7c24e04"
      },
      "outputs": [
        {
          "output_type": "stream",
          "name": "stdout",
          "text": [
            "[1.] 1\n"
          ]
        }
      ],
      "source": [
        "test_data = np.array([31.0])\n",
        "\n",
        "(real_val, logical_val) = predict(test_data)\n",
        "\n",
        "print(real_val, logical_val) # 시그모이드는 절대 0이나 1이 나올 수가 없는데 1이 나옴\n",
        "# 0.9999999999... 인데 변수라는 어떤 특정한 크기에 데이터를 저장해야 하기 때문에 (8byte안에 담기 위해) 올림 해버림\n",
        "# 이런 부분에서 \"오차\"가 발생함.\n",
        "# 따라서 아주 작은 수인 delta를 더해주는 수치해석 적 테크닉이 필요한 것임!\n"
      ]
    },
    {
      "cell_type": "code",
      "execution_count": null,
      "metadata": {
        "colab": {
          "base_uri": "https://localhost:8080/"
        },
        "id": "ZUmb7D8DOxqr",
        "outputId": "30406118-9b04-40a1-9a12-16535356da5d"
      },
      "outputs": [
        {
          "output_type": "stream",
          "name": "stdout",
          "text": [
            "[5.04484825e-12] 0\n"
          ]
        }
      ],
      "source": [
        "test_data = np.array([3.0])\n",
        "\n",
        "(real_val, logical_val) = predict(test_data)\n",
        "\n",
        "print(real_val, logical_val)"
      ]
    },
    {
      "cell_type": "code",
      "execution_count": null,
      "metadata": {
        "colab": {
          "base_uri": "https://localhost:8080/"
        },
        "id": "6ngOhEyAOxqs",
        "outputId": "83b0c5d2-88d5-4302-e80f-dbf05f2499a3"
      },
      "outputs": [
        {
          "output_type": "stream",
          "name": "stdout",
          "text": [
            "[1.85623686e-11] 0\n"
          ]
        }
      ],
      "source": [
        "test_data = np.array([3.5])\n",
        "\n",
        "(real_val, logical_val) = predict(test_data)\n",
        "\n",
        "print(real_val, logical_val)"
      ]
    },
    {
      "cell_type": "code",
      "execution_count": null,
      "metadata": {
        "id": "eBEvqwwhOxqt"
      },
      "outputs": [],
      "source": [
        ""
      ]
    }
  ],
  "metadata": {
    "anaconda-cloud": {},
    "kernelspec": {
      "display_name": "Python 3",
      "language": "python",
      "name": "python3"
    },
    "language_info": {
      "codemirror_mode": {
        "name": "ipython",
        "version": 3
      },
      "file_extension": ".py",
      "mimetype": "text/x-python",
      "name": "python",
      "nbconvert_exporter": "python",
      "pygments_lexer": "ipython3",
      "version": "3.7.3"
    },
    "colab": {
      "name": "LogisticRegression_Example.ipynb",
      "provenance": [],
      "collapsed_sections": [],
      "include_colab_link": true
    }
  },
  "nbformat": 4,
  "nbformat_minor": 0
}
