{
  "nbformat": 4,
  "nbformat_minor": 0,
  "metadata": {
    "colab": {
      "name": "Logistic_XOR_Regression.ipynb",
      "provenance": [],
      "collapsed_sections": [],
      "toc_visible": true,
      "authorship_tag": "ABX9TyPk6HzfrtdogpZoOtw4i57W",
      "include_colab_link": true
    },
    "kernelspec": {
      "name": "python3",
      "display_name": "Python 3"
    },
    "language_info": {
      "name": "python"
    }
  },
  "cells": [
    {
      "cell_type": "markdown",
      "metadata": {
        "id": "view-in-github",
        "colab_type": "text"
      },
      "source": [
        "<a href=\"https://colab.research.google.com/github/FulISun/Computer_Vision/blob/main/Logistic_XOR_Regression.ipynb\" target=\"_parent\"><img src=\"https://colab.research.google.com/assets/colab-badge.svg\" alt=\"Open In Colab\"/></a>"
      ]
    },
    {
      "cell_type": "markdown",
      "source": [
        "## numerical_derivative, sigmoid 함수 정의"
      ],
      "metadata": {
        "id": "9ZeEj1gvdXBr"
      }
    },
    {
      "cell_type": "code",
      "execution_count": null,
      "metadata": {
        "id": "179LXaYNbYpT"
      },
      "outputs": [],
      "source": [
        "import numpy as np\n",
        "from datetime import datetime\n",
        "\n",
        "np.random.seed(66)\n",
        "\n",
        "def numerical_derivative(f, x):\n",
        "    delta_x = 1e-4 # 0.0001\n",
        "    grad = np.zeros_like(x) # x랑 같은 차원으로 0행렬 생성\n",
        "\n",
        "    it = np.nditer(x, flags=['multi_index'], op_flags=['readwrite']) \n",
        "    # np.nditer : 다차원 배열의 각 요소 (= 스칼라)에 접근 가능하게 하는 함수. \n",
        "    # https://transferhwang.tistory.com/278 참고\n",
        "\n",
        "    while not it.finished:\n",
        "        idx = it.multi_index\n",
        "        tmp_val = x[idx]\n",
        "        x[idx] = float(tmp_val) + delta_x\n",
        "        fx1 = f(x) # f(x+delta_x)\n",
        "\n",
        "        x[idx] = float(tmp_val) - delta_x\n",
        "        fx2 = f(x) # f(x-delta_x)\n",
        "        grad[idx] = (fx1 - fx2) / (2*delta_x)\n",
        "\n",
        "        x[idx] = tmp_val\n",
        "        it.iternext()\n",
        "\n",
        "    return grad\n"
      ]
    },
    {
      "cell_type": "code",
      "source": [
        "# 최종 출력은 y = sigmoid(Wx+b)이며, 손실함수는 cross-entropy로 나타냄\n",
        "\n",
        "def sigmoid(z):\n",
        "    return 1 / (1 + np.exp(-z) )"
      ],
      "metadata": {
        "id": "H2z9O3fMtro0"
      },
      "execution_count": null,
      "outputs": []
    },
    {
      "cell_type": "markdown",
      "source": [
        "## data definition"
      ],
      "metadata": {
        "id": "BC3DauIBvZU-"
      }
    },
    {
      "cell_type": "code",
      "source": [
        "x_XOR = np.array([ [0,0], [0,1], [1,0], [1,1] ])\n",
        "t_XOR = np.array([0, 1, 1, 0]).reshape(4,1)\n",
        "\n",
        "print(\"x_XOR.shape = \", x_XOR.shape, \"t_XOR.shape\", t_XOR.shape)"
      ],
      "metadata": {
        "colab": {
          "base_uri": "https://localhost:8080/"
        },
        "id": "v1yzKxBLvfUl",
        "outputId": "bd695edc-ce59-401a-b6a2-995a1a25c29d"
      },
      "execution_count": null,
      "outputs": [
        {
          "output_type": "stream",
          "name": "stdout",
          "text": [
            "x_XOR.shape =  (4, 2) t_XOR.shape (4, 1)\n"
          ]
        }
      ]
    },
    {
      "cell_type": "markdown",
      "source": [
        "## initialize weights and bias"
      ],
      "metadata": {
        "id": "XxnC0zIlwG8b"
      }
    },
    {
      "cell_type": "code",
      "source": [
        "W = np.random.rand(2, 1) # 피처가 2차원으로 증가하였으니 가중치도 2차원\n",
        "b = np.random.rand(1)\n",
        "\n",
        "print(\"W = \", W, \", W.shape = \", W.shape, \", b = \", b, \", b.shape = \", b.shape)"
      ],
      "metadata": {
        "colab": {
          "base_uri": "https://localhost:8080/"
        },
        "id": "FdkeWKy8vfSQ",
        "outputId": "a09104a4-ee12-4b11-c2a7-5fc2182c2e2d"
      },
      "execution_count": null,
      "outputs": [
        {
          "output_type": "stream",
          "name": "stdout",
          "text": [
            "W =  [[0.15428758]\n",
            " [0.13369956]] , W.shape =  (2, 1) , b =  [0.36268547] , b.shape =  (1,)\n"
          ]
        }
      ]
    },
    {
      "cell_type": "markdown",
      "source": [
        "## define loss function and output, y"
      ],
      "metadata": {
        "id": "khuOm3COwfne"
      }
    },
    {
      "cell_type": "code",
      "source": [
        "def loss_func(x, t):\n",
        "\n",
        "    delta = 1e-7 # log 무한대 발산 방지\n",
        "\n",
        "    z = np.dot(x, W) + b\n",
        "    y = sigmoid(z)\n",
        "\n",
        "    # cross-entropy\n",
        "    return -np.sum( t*np.log(y + delta) + (1-t)*np.log( (1-y)+delta ) )\n",
        "    # 이론상 시그모이드값인 y는 1이 될 수 없지만, 변수 저장공간 때문에 8byte로 표현해야 해서\n",
        "    # 0.9999가 올림되어 1이되는 경우가 있음. 따라서 log 무한대 발산 방지위해 delta 더해줌"
      ],
      "metadata": {
        "id": "bSje0HD5vfNe"
      },
      "execution_count": null,
      "outputs": []
    },
    {
      "cell_type": "markdown",
      "source": [
        "## XOR learning"
      ],
      "metadata": {
        "id": "FKebVvs_xrmq"
      }
    },
    {
      "cell_type": "code",
      "source": [
        "learning_rate = 1e-5\n",
        "\n",
        "f = lambda x : loss_func(x_XOR, t_XOR)\n",
        "\n",
        "print(\"Initial error value = \", loss_func(x_XOR, t_XOR) )\n",
        "\n",
        "start_time = datetime.now()\n",
        "\n",
        "for step in range(200001):\n",
        "\n",
        "    W -= learning_rate * numerical_derivative(f, W)\n",
        "\n",
        "    b -= learning_rate * numerical_derivative(f, b)\n",
        "\n",
        "    if (step % 5000 == 0):\n",
        "      print(\"step = \", step, \"error value = \", loss_func(x_XOR, t_XOR))\n",
        "\n",
        "end_time = datetime.now()\n",
        "\n",
        "print()\n",
        "print(\"Elapsed Time => \", end_time - start_time)"
      ],
      "metadata": {
        "colab": {
          "base_uri": "https://localhost:8080/"
        },
        "id": "DJNeOpUcxq7o",
        "outputId": "94714156-9a48-4bc0-8dc9-2967baa1ddce"
      },
      "execution_count": null,
      "outputs": [
        {
          "output_type": "stream",
          "name": "stdout",
          "text": [
            "Initial error value =  2.7730781385876213\n",
            "step =  0 error value =  2.77307813033545\n",
            "step =  5000 error value =  2.773039709898957\n",
            "step =  10000 error value =  2.773006410086216\n",
            "step =  15000 error value =  2.772977485577135\n",
            "step =  20000 error value =  2.772952300635761\n",
            "step =  25000 error value =  2.7729303129837746\n",
            "step =  30000 error value =  2.772911060046327\n",
            "step =  35000 error value =  2.772894147221561\n",
            "step =  40000 error value =  2.7728792378762943\n",
            "step =  45000 error value =  2.7728660448140214\n",
            "step =  50000 error value =  2.772854322998673\n",
            "step =  55000 error value =  2.7728438633493804\n",
            "step =  60000 error value =  2.7728344874486766\n",
            "step =  65000 error value =  2.7728260430296823\n",
            "step =  70000 error value =  2.772818400127661\n",
            "step =  75000 error value =  2.772811447798134\n",
            "step =  80000 error value =  2.7728050913181663\n",
            "step =  85000 error value =  2.7727992497996956\n",
            "step =  90000 error value =  2.772793854154239\n",
            "step =  95000 error value =  2.772788845357254\n",
            "step =  100000 error value =  2.77278417296803\n",
            "step =  105000 error value =  2.7727797938674943\n",
            "step =  110000 error value =  2.772775671181839\n",
            "step =  115000 error value =  2.772771773364617\n",
            "step =  120000 error value =  2.772768073413965\n",
            "step =  125000 error value =  2.7727645482050742\n",
            "step =  130000 error value =  2.772761177920909\n",
            "step =  135000 error value =  2.7727579455667506\n",
            "step =  140000 error value =  2.7727548365561705\n",
            "step =  145000 error value =  2.7727518383579657\n",
            "step =  150000 error value =  2.772748940195048\n",
            "step =  155000 error value =  2.7727461327876464\n",
            "step =  160000 error value =  2.7727434081343\n",
            "step =  165000 error value =  2.7727407593250786\n",
            "step =  170000 error value =  2.772738180382277\n",
            "step =  175000 error value =  2.7727356661245457\n",
            "step =  180000 error value =  2.7727332120510075\n",
            "step =  185000 error value =  2.772730814242413\n",
            "step =  190000 error value =  2.772728469276826\n",
            "step =  195000 error value =  2.772726174157709\n",
            "step =  200000 error value =  2.7727239262525667\n",
            "\n",
            "Elapsed Time =>  0:00:41.748182\n"
          ]
        }
      ]
    },
    {
      "cell_type": "markdown",
      "source": [
        "200000번 돌렸을 때 loss가 크게 줄어들고 있진 않음 =>\n",
        "\n",
        "1. epoch 증가 시켜봄.\n",
        "\n",
        "2. 하이퍼파라미터(러닝레이트 변경) -> 그래도 값이 크게 바뀌지 않는다면\n",
        "    \n",
        "3. 혹시 2.78이 최소인가? 의문 가지기. \n",
        "\n",
        "2.7이 최소값인지 확인해보려면 predict 해보면 됨. 제대로 예측하는지!! \n",
        "\n",
        "그런데 밑에 실행시켜보면 잘 예측해내지 못함. 문제는 데이터에 있음.\n",
        "\n",
        "and는 0 0 0, 0 1 0, 1 0 0 \n",
        "\n",
        "\n",
        "xor은 0 0 0, 0 1 1, 1 0 1 이런 패턴임\n",
        "\n",
        "\n",
        "기하학적으로 생각해보면 and는 1 1 1일 때만 1이 나오면 됨. 즉 1개의 직선으로 classification이 가능함.\n",
        "\n",
        "그런데 xor은 데이터의 패턴을 표시하기 위해서 선이 2개가 있어야 함.\n",
        "\n",
        "0 0 0, 1 1 0/ 0 1 1, 1 0 1을 분리해내는 선 => 즉 곡선이 필요함. 이 간단한 xor 데이터도 분류를 못해내더라 => XOR problem\n",
        "    \n",
        "ML로 풀 수 없는 문제를 Deep learning으로 풀 수 있다!!! => ML에서 DL로 넘어가는 계기\n",
        "\n",
        "ML 알고리즘으로 XOR을 풀 수 없다는 것을 증명해낸 것이 마빈민스키. 퍼셉트론이라는 책에서 증명함. => 이것이 1차 AI 암흑기"
      ],
      "metadata": {
        "id": "zppXV590MFUj"
      }
    },
    {
      "cell_type": "markdown",
      "source": [
        "## evaluate and predict"
      ],
      "metadata": {
        "id": "WKzv6U-bMu7G"
      }
    },
    {
      "cell_type": "code",
      "source": [
        "# 학습 마친 후, 임의의 데이터에 대해 미래 값 예측 함수\n",
        "# 입력변수 test_data : numpy type\n",
        "\n",
        "def predict(test_data):\n",
        "\n",
        "    z = np.dot(test_data, W) + b\n",
        "    y = sigmoid(z)\n",
        "\n",
        "    if y > 0.5:\n",
        "      pred_val = 1\n",
        "    else:\n",
        "      pred_val = 0\n",
        "    \n",
        "    return y, pred_val"
      ],
      "metadata": {
        "id": "dqPzL-3EvfLD"
      },
      "execution_count": null,
      "outputs": []
    },
    {
      "cell_type": "code",
      "source": [
        "test_data = np.array([ [0,0], [0,1], [1,0], [1,1] ])\n",
        "\n",
        "for input_data in test_data:\n",
        "\n",
        "  print(predict(input_data))"
      ],
      "metadata": {
        "colab": {
          "base_uri": "https://localhost:8080/"
        },
        "id": "JutQJHZbvfGV",
        "outputId": "721fbde7-63a3-4364-ed75-1ba0e5997fe1"
      },
      "execution_count": null,
      "outputs": [
        {
          "output_type": "stream",
          "name": "stdout",
          "text": [
            "(array([0.50672412]), 1)\n",
            "(array([0.50029826]), 1)\n",
            "(array([0.50220144]), 1)\n",
            "(array([0.49577529]), 0)\n"
          ]
        }
      ]
    },
    {
      "cell_type": "code",
      "source": [
        ""
      ],
      "metadata": {
        "id": "ur0-24rNvfD3"
      },
      "execution_count": null,
      "outputs": []
    },
    {
      "cell_type": "code",
      "source": [
        ""
      ],
      "metadata": {
        "id": "PQcjmbCYvfBT"
      },
      "execution_count": null,
      "outputs": []
    },
    {
      "cell_type": "code",
      "source": [
        ""
      ],
      "metadata": {
        "id": "YoKtAzEHve-p"
      },
      "execution_count": null,
      "outputs": []
    },
    {
      "cell_type": "code",
      "source": [
        ""
      ],
      "metadata": {
        "id": "whlT31Leve70"
      },
      "execution_count": null,
      "outputs": []
    }
  ]
}
