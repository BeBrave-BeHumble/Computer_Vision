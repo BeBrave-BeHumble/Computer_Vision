{
  "nbformat": 4,
  "nbformat_minor": 0,
  "metadata": {
    "colab": {
      "name": "Introduction to CNN.ipynb",
      "provenance": [],
      "collapsed_sections": [],
      "authorship_tag": "ABX9TyOncaCXXX9HEFVzTWUkLFAx",
      "include_colab_link": true
    },
    "kernelspec": {
      "name": "python3",
      "display_name": "Python 3"
    },
    "language_info": {
      "name": "python"
    }
  },
  "cells": [
    {
      "cell_type": "markdown",
      "metadata": {
        "id": "view-in-github",
        "colab_type": "text"
      },
      "source": [
        "<a href=\"https://colab.research.google.com/github/FulISun/Computer_Vision/blob/main/CNN/Introduction_to_CNN.ipynb\" target=\"_parent\"><img src=\"https://colab.research.google.com/assets/colab-badge.svg\" alt=\"Open In Colab\"/></a>"
      ]
    },
    {
      "cell_type": "markdown",
      "source": [
        "등장배경: 기존 신경망(NN)은 input을 받을 때, 이미지의 픽셀을 vector로 바꾸어 숫자로 받음. \n",
        "그런데 이미지는 'feature', 'position'이라는 중요한 두 가지 특징을 가짐.\n",
        "\n",
        "자동차를 예로 들면, 자동차는 동그란 바퀴(feature)가 네모난 몸체 밑(position)에 있음.\n",
        "\n",
        "즉, 중요 특징과 그 위치를 파악해야 하는데 vector로는 알 수가 없음. 신경망 입장에선 얘가 이미지 데이터인지 텍스트 데이터인지 알 길이 없단 의미.\n",
        "\n",
        "=> 이미지 자체로 넣자! => \"CNN 등장\""
      ],
      "metadata": {
        "id": "Jvj7v1VhmYGY"
      }
    },
    {
      "cell_type": "markdown",
      "source": [
        "+) 반면, '언어'는 '순서'가 중요함\n",
        "\n",
        "I work at google.\n",
        "\n",
        "I google at work.\n",
        "\n",
        "두 문장은 같은 단어로 구성되어 있지만 의미가 전혀 다름. \n",
        "=> 순서를 고려하자! => \"RNN, LSTM\"\n"
      ],
      "metadata": {
        "id": "5xJ1LAOqnRvd"
      }
    },
    {
      "cell_type": "markdown",
      "source": [
        "CNN은 큰 틀로 보면\n",
        "\n",
        "Input  ->  integral(f(x)g(x-t))  ->  Y-t\n",
        "\n",
        "로 볼 수 있음"
      ],
      "metadata": {
        "id": "RPnhMSe0nuTQ"
      }
    },
    {
      "cell_type": "markdown",
      "source": [
        "중간에 적분 연산이 Convolution이라 불리는 연산이며, CNN의 C임.\n",
        "\n",
        "이전에 Introduction에서 딥러닝과 머신러닝은 Y를 예측하기 위해 weights와 bias를 업데이트 하는 과정이라고 했음.\n",
        "CNN에서는 weight의 집합체인 g(x)를 업데이트 하는 것임. 이 g(x)는 '필터' 혹은 '커널'이라고 불림. \n",
        "\n",
        "식에서 알 수 있듯이 input인 f(x)와 g(x)는 1:1대응이므로 f(x) 채널의 수만큼 g(x)가 필요하며,\n",
        "\n",
        "t가 먼저 정해져야 연산이 가능하고,\n",
        "\n",
        "입력인 f(x)는 변하지 않으니, g(x)만큼 쪼개서 변화시켜 Y를 예측하는 것임\n"
      ],
      "metadata": {
        "id": "9hB9iFuOn9zC"
      }
    },
    {
      "cell_type": "markdown",
      "source": [
        "* 필터 하나 당 bias는 1개\n",
        "* 필터 사이즈 = 가중치 수\n",
        "\n",
        "즉, 이미지의 크기가 (3,3,1)이라면 필요한 파라미터는 w:9 + b:1 => 총 10개"
      ],
      "metadata": {
        "id": "y1Jq5PsLps_n"
      }
    },
    {
      "cell_type": "markdown",
      "source": [
        "자료를 찾아보면 알겠지만, 필터가 이미지를 이동하며 행렬연산을 하기 때문에 이 행렬연산에는 feature의 위치정보가 담김.\n",
        "\n",
        "그렇기 때문에 Conv 연산된 행렬에 bias를 더한 값을 흔히들 알고있는 \"Feature map\"이라고 부르는 것임. 이미지의 feature를 알 수 있는 map이기 때문에.\n"
      ],
      "metadata": {
        "id": "ifkYGUayqB6e"
      }
    },
    {
      "cell_type": "markdown",
      "source": [
        "입력은 3차원 tensor인 이미지를 받으며,\n",
        "\n",
        "Convolution층은\n",
        "\n",
        "conv (공간의 중요한 특징을 뽑아냄) => relu (비선형성 추가) => pooling (결과 압축)으로 이루어져 있음.\n",
        "\n"
      ],
      "metadata": {
        "id": "_D9QkXsOqz5U"
      }
    },
    {
      "cell_type": "markdown",
      "source": [
        "* conv: 입력데이터와 가중치의 집합체인 필터와의 컨볼루션 연산을 통해 입력 데이터의 feature 추출.\n",
        "\n",
        "* pooling: 입력 정보를 최대값, 최소값, 평균 등으로 압축하여 데이터의 연산량을 줄여줌. 흔히 max pooling이라 하는 최대값을 사용함."
      ],
      "metadata": {
        "id": "w0dNYo2EsQKC"
      }
    },
    {
      "cell_type": "code",
      "execution_count": null,
      "metadata": {
        "id": "wfeJEfaBmVkr"
      },
      "outputs": [],
      "source": [
        ""
      ]
    }
  ]
}